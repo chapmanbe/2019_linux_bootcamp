{
 "cells": [
  {
   "cell_type": "markdown",
   "metadata": {},
   "source": [
    "# Welcome to a [Jupyter](https://jupyter.org/) Notebook\n",
    "\n",
    "Jupyter notebooks are an open-source standard for creating what the authors describe as [literate computing](http://blog.fperez.org/2013/04/literate-computing-and-computational.html), a concept derived from Donald Knuth's [literate programming](https://en.wikipedia.org/wiki/Literate_programming).\n",
    "\n",
    "There is a vigorous debate about what is [good](https://blog.jupyter.org/jupyter-receives-the-acm-software-system-award-d433b0dfe3a2) and [bad](https://conferences.oreilly.com/jupyter/jup-ny/public/schedule/detail/68282) about notebooks. Most of the negative critiques stem from issues of software engineering, but as a means of *communicating* compuation, Jupyter notebooks have become very prevalent and liked.\n",
    "\n",
    "From the perspective of this class, Jupyter notebooks provide a (relatively) easy way for us to explore computation: all you need is a web browser (and a [GitHub](https://github.com/)  account).\n",
    "\n",
    "Notebooks are made up of **cells** and there are three (kind of) types of cells.\n",
    "1. Markdown cells. This is a markdown cell. Markdown cells are great for using language and media to instruct and explain. Markdown is a kind of markup language that allows us to format text (e.g. bold, emphasis, hyperlinks, lists, etc.)\n",
    "2. Code cells. Code cells allow us to write and execute code. For the DeCART classes this will be code written in Python (the language from which Juptyer grew), but Juptyer supports many programming languages. You can see a list of supported languages [here](https://github.com/jupyter/jupyter/wiki/Jupyter-kernels).\n",
    "3. Output cells. Program cells produce output, which for the sake of simplicity I'm going to describe as being a cell.\n",
    "\n",
    "A Markdown cell, a Python code cell, and an output cell are shown below."
   ]
  },
  {
   "cell_type": "markdown",
   "metadata": {},
   "source": [
    "## Our First Program"
   ]
  },
  {
   "cell_type": "code",
   "execution_count": null,
   "metadata": {},
   "outputs": [],
   "source": [
    "# Get name from the user\n",
    "name = input(\"What is your name?\\n\")\n",
    "\n",
    "# This uses string interpolation for the output\n",
    "print(\"We hope you enjoy the class, %s!\"%name)"
   ]
  },
  {
   "cell_type": "code",
   "execution_count": null,
   "metadata": {},
   "outputs": [],
   "source": []
  },
  {
   "cell_type": "markdown",
   "metadata": {},
   "source": [
    "```JSON\n",
    "{\n",
    "   \"cell_type\": \"code\",\n",
    "   \"execution_count\": 1,\n",
    "   \"metadata\": {},\n",
    "   \"outputs\": [\n",
    "    {\n",
    "     \"name\": \"stdout\",\n",
    "     \"output_type\": \"stream\",\n",
    "     \"text\": [\n",
    "      \"What is your name?\\n\",\n",
    "      \"Brian\\n\",\n",
    "      \"We hope you enjoy the class, Brian!\\n\"\n",
    "     ]\n",
    "    }\n",
    "   ],\n",
    "   \"source\": [\n",
    "    \"# Get name from the user\\n\",\n",
    "    \"name = input(\\\"What is your name?\\\\n\\\")\\n\",\n",
    "    \"\\n\",\n",
    "    \"# This uses string interpolation for the output\\n\",\n",
    "    \"print(\\\"We hope you enjoy the class, %s!\\\"%name)\"\n",
    "   ]\n",
    "  },\n",
    "```"
   ]
  },
  {
   "cell_type": "markdown",
   "metadata": {},
   "source": [
    "## Working in Notebooks\n",
    "\n",
    "I haven't actually told you how to **execute** a code cell to produce the output, although. There are multiple ways to execute cells in a Jupyter notebook.\n",
    "\n",
    "Within your groups, try to answer the following questions:\n",
    "\n",
    "1. How many different ways can you execute a cell (or cells) in the notebook?\n",
    "1. How many ways can I add a cell to the notebook?\n",
    "1. How many ways can I change the order of the cells in the notebook?\n",
    "1. The program that executes the code in the code cells is called the **kernel**. How can you change which kernel is being used by the notebook? How many different kernels do we have available?\n",
    "1. Can you find any interesting ways to change or customize the behavior of the notebooks?"
   ]
  },
  {
   "cell_type": "code",
   "execution_count": null,
   "metadata": {},
   "outputs": [],
   "source": []
  },
  {
   "cell_type": "code",
   "execution_count": null,
   "metadata": {},
   "outputs": [],
   "source": []
  },
  {
   "cell_type": "code",
   "execution_count": null,
   "metadata": {},
   "outputs": [],
   "source": []
  }
 ],
 "metadata": {
  "@webio": {
   "lastCommId": null,
   "lastKernelId": null
  },
  "kernelspec": {
   "display_name": "Python 3",
   "language": "python",
   "name": "python3"
  },
  "language_info": {
   "codemirror_mode": {
    "name": "ipython",
    "version": 3
   },
   "file_extension": ".py",
   "mimetype": "text/x-python",
   "name": "python",
   "nbconvert_exporter": "python",
   "pygments_lexer": "ipython3",
   "version": "3.7.3"
  },
  "latex_envs": {
   "LaTeX_envs_menu_present": true,
   "autoclose": false,
   "autocomplete": true,
   "bibliofile": "biblio.bib",
   "cite_by": "apalike",
   "current_citInitial": 1,
   "eqLabelWithNumbers": true,
   "eqNumInitial": 1,
   "hotkeys": {
    "equation": "Ctrl-E",
    "itemize": "Ctrl-I"
   },
   "labels_anchors": false,
   "latex_user_defs": false,
   "report_style_numbering": false,
   "user_envs_cfg": false
  }
 },
 "nbformat": 4,
 "nbformat_minor": 2
}
